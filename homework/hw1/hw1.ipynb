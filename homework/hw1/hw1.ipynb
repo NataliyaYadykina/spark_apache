{
  "cells": [
    {
      "cell_type": "markdown",
      "metadata": {
        "id": "QqA9I5jF7XyP"
      },
      "source": [
        "Домашнее задание: Условие: Найти самую длинную последовательность упорядоченных чисел в RDD и вывести её"
      ]
    },
    {
      "cell_type": "code",
      "execution_count": 1,
      "metadata": {
        "colab": {
          "base_uri": "https://localhost:8080/"
        },
        "id": "jqrPEDMq7PuW",
        "outputId": "629f1444-7003-49dc-a71e-78262f9286fd"
      },
      "outputs": [
        {
          "name": "stdout",
          "output_type": "stream",
          "text": [
            "Collecting pyspark\n",
            "  Downloading pyspark-3.5.1.tar.gz (317.0 MB)\n",
            "\u001b[2K     \u001b[90m━━━━━━━━━━━━━━━━━━━━━━━━━━━━━━━━━━━━━━━━\u001b[0m \u001b[32m317.0/317.0 MB\u001b[0m \u001b[31m3.1 MB/s\u001b[0m eta \u001b[36m0:00:00\u001b[0m\n",
            "\u001b[?25h  Preparing metadata (setup.py) ... \u001b[?25l\u001b[?25hdone\n",
            "Requirement already satisfied: py4j==0.10.9.7 in /usr/local/lib/python3.10/dist-packages (from pyspark) (0.10.9.7)\n",
            "Building wheels for collected packages: pyspark\n",
            "  Building wheel for pyspark (setup.py) ... \u001b[?25l\u001b[?25hdone\n",
            "  Created wheel for pyspark: filename=pyspark-3.5.1-py2.py3-none-any.whl size=317488491 sha256=ba2783c3b8b66cb0060238187aeb3d4257b09d693554c24a5a0d38721924f7f8\n",
            "  Stored in directory: /root/.cache/pip/wheels/80/1d/60/2c256ed38dddce2fdd93be545214a63e02fbd8d74fb0b7f3a6\n",
            "Successfully built pyspark\n",
            "Installing collected packages: pyspark\n",
            "Successfully installed pyspark-3.5.1\n"
          ]
        }
      ],
      "source": [
        "!pip install pyspark"
      ]
    },
    {
      "cell_type": "code",
      "execution_count": 3,
      "metadata": {
        "id": "zp6-phTD71y7"
      },
      "outputs": [],
      "source": [
        "import pyspark\n",
        "from pyspark import SparkContext\n",
        "from pyspark.sql import SparkSession\n",
        "from random import randint"
      ]
    },
    {
      "cell_type": "code",
      "execution_count": 26,
      "metadata": {
        "colab": {
          "base_uri": "https://localhost:8080/"
        },
        "id": "PA1fveghBYHs",
        "outputId": "59ed5d76-058e-44c1-cdcf-538266649aeb"
      },
      "outputs": [
        {
          "name": "stdout",
          "output_type": "stream",
          "text": [
            "[9, 27, 29, 35, 10, 31, 11, 44, 19, 27, 42, 14, 48, 10, 44, 21, 46, 38, 21, 17]\n"
          ]
        }
      ],
      "source": [
        "# Сформируем список случайных чисел.\n",
        "random_list = [randint(0, 50) for _ in range(20)]\n",
        "print(random_list)"
      ]
    },
    {
      "cell_type": "code",
      "execution_count": 27,
      "metadata": {
        "colab": {
          "base_uri": "https://localhost:8080/"
        },
        "id": "UXL1_STWIT_-",
        "outputId": "bf5d7bc3-fbf7-4c38-ddee-f54a33d6654f"
      },
      "outputs": [
        {
          "name": "stdout",
          "output_type": "stream",
          "text": [
            "[[9, 27, 29, 35], [10, 31], [11, 44], [19, 27, 42], [14, 48], [10, 44], [21, 46], [38], [21], [17]]\n"
          ]
        }
      ],
      "source": [
        "# Запишем последовательности упорядоченных чисел из списка.\n",
        "sequences = []\n",
        "seq = [random_list[0]]\n",
        "for x in random_list[1:]:\n",
        "    if x >= seq[-1]:\n",
        "        seq.append(x)\n",
        "    else:\n",
        "        sequences.append(seq)\n",
        "        seq = [x]\n",
        "if seq:\n",
        "    sequences.append(seq)\n",
        "\n",
        "print(sequences)"
      ]
    },
    {
      "cell_type": "code",
      "execution_count": 28,
      "metadata": {
        "colab": {
          "base_uri": "https://localhost:8080/"
        },
        "id": "BGpiK-Aq8Lqy",
        "outputId": "5057992b-750d-486d-aff9-1765aa027f37"
      },
      "outputs": [
        {
          "name": "stdout",
          "output_type": "stream",
          "text": [
            "Самая длинная аоследовательность упорядоченных чисел: [9, 27, 29, 35]\n"
          ]
        }
      ],
      "source": [
        "# Найдем самую длинную последовательность упорядоченных чисел.\n",
        "sc = SparkContext(\"local\", \"The longest sequence RDD\")\n",
        "rdd = sc.parallelize(sequences)\n",
        "longest_sequence = rdd.max(key=lambda x: len(x))\n",
        "print(\"Самая длинная аоследовательность упорядоченных чисел:\", longest_sequence)"
      ]
    },
    {
      "cell_type": "code",
      "execution_count": 29,
      "metadata": {
        "id": "t6ff7OHDI6K9"
      },
      "outputs": [],
      "source": [
        "sc.stop()"
      ]
    }
  ],
  "metadata": {
    "colab": {
      "provenance": []
    },
    "kernelspec": {
      "display_name": "Python 3",
      "name": "python3"
    },
    "language_info": {
      "name": "python",
      "version": "3.11.4"
    }
  },
  "nbformat": 4,
  "nbformat_minor": 0
}
