{
  "nbformat": 4,
  "nbformat_minor": 0,
  "metadata": {
    "colab": {
      "provenance": []
    },
    "kernelspec": {
      "name": "python3",
      "display_name": "Python 3"
    },
    "language_info": {
      "name": "python"
    }
  },
  "cells": [
    {
      "cell_type": "code",
      "execution_count": 1,
      "metadata": {
        "id": "t91RGo1-4kK9"
      },
      "outputs": [],
      "source": [
        "!pip install pyspark >> None"
      ]
    },
    {
      "cell_type": "markdown",
      "source": [
        "# Задание\n",
        "\n",
        "Условие: есть набор данных о продажах продуктов с информацией о дате продаж, категории продукта, количестве и выручке от продаж.\n",
        "\n",
        "Используя Apache Spark, загрузите предоставленный набор данных в DataFrame (пример данных ниже).\n",
        "\n",
        "(\"2023-11-20\", \"Electronics\", 100, 12000),\n",
        "(\"2023-11-21\", \"Electronics\", 110, 13000),\n",
        "(\"2023-11-22\", \"Electronics\", 105, 12500),\n",
        "(\"2023-11-20\", \"Clothing\", 300, 15000),\n",
        "(\"2023-11-21\", \"Clothing\", 280, 14000),\n",
        "(\"2023-11-22\", \"Clothing\", 320, 16000),\n",
        "(\"2023-11-20\", \"Books\", 150, 9000),\n",
        "(\"2023-11-21\", \"Books\", 200, 12000),\n",
        "(\"2023-11-22\", \"Books\", 180, 10000)\n",
        "\n",
        "Столбцы: \"date\", \"category\", \"quantity\", \"revenue\".\n",
        "\n",
        "С использованием оконных функций, рассчитайте среднее выручки от продаж для каждой категории продукта.\n",
        "\n",
        "Примените операцию pivot для того, чтобы преобразовать полученные данные таким образом, чтобы в качестве строк были категории продуктов, в качестве столбцов были дни, а значениями были средние значения выручки от продаж за соответствующий день"
      ],
      "metadata": {
        "id": "jOqpbpiC4zVS"
      }
    },
    {
      "cell_type": "code",
      "source": [
        "from pyspark.sql import SparkSession\n",
        "from pyspark.sql.functions import avg, col\n",
        "from pyspark.sql.window import Window\n",
        "from pyspark.sql import functions as F"
      ],
      "metadata": {
        "id": "yITjSdUS44Gi"
      },
      "execution_count": 9,
      "outputs": []
    },
    {
      "cell_type": "code",
      "source": [
        "# Создание сессии Spark\n",
        "spark = SparkSession.builder \\\n",
        "    .appName(\"Average Revenue by Category\") \\\n",
        "    .getOrCreate()\n",
        "\n",
        "# Пример данных\n",
        "data = [(\"2023-11-20\", \"Electronics\", 100, 12000),\n",
        "        (\"2023-11-21\", \"Electronics\", 110, 13000),\n",
        "        (\"2023-11-22\", \"Electronics\", 105, 12500),\n",
        "        (\"2023-11-20\", \"Clothing\", 300, 15000),\n",
        "        (\"2023-11-21\", \"Clothing\", 280, 14000),\n",
        "        (\"2023-11-22\", \"Clothing\", 320, 16000),\n",
        "        (\"2023-11-20\", \"Books\", 150, 9000),\n",
        "        (\"2023-11-21\", \"Books\", 200, 12000),\n",
        "        (\"2023-11-22\", \"Books\", 180, 10000)]\n",
        "\n",
        "# Создание DataFrame\n",
        "df = spark.createDataFrame(data, [\"date\", \"category\", \"quantity\", \"revenue\"])\n",
        "\n",
        "df.show()"
      ],
      "metadata": {
        "colab": {
          "base_uri": "https://localhost:8080/"
        },
        "id": "dwVYH3Xc7EXk",
        "outputId": "f89926d8-bfd3-4297-a7da-8936d8e527a2"
      },
      "execution_count": 10,
      "outputs": [
        {
          "output_type": "stream",
          "name": "stdout",
          "text": [
            "+----------+-----------+--------+-------+\n",
            "|      date|   category|quantity|revenue|\n",
            "+----------+-----------+--------+-------+\n",
            "|2023-11-20|Electronics|     100|  12000|\n",
            "|2023-11-21|Electronics|     110|  13000|\n",
            "|2023-11-22|Electronics|     105|  12500|\n",
            "|2023-11-20|   Clothing|     300|  15000|\n",
            "|2023-11-21|   Clothing|     280|  14000|\n",
            "|2023-11-22|   Clothing|     320|  16000|\n",
            "|2023-11-20|      Books|     150|   9000|\n",
            "|2023-11-21|      Books|     200|  12000|\n",
            "|2023-11-22|      Books|     180|  10000|\n",
            "+----------+-----------+--------+-------+\n",
            "\n"
          ]
        }
      ]
    },
    {
      "cell_type": "code",
      "source": [
        "# Оконная функция для рассчета средней выручки по категориям продуктов\n",
        "window_spec = Window.partitionBy(\"category\")\n",
        "\n",
        "# Добавление столбца со средней выручкой\n",
        "df_avg_revenue = df.withColumn(\"avg_revenue\", F.round(avg(col(\"revenue\")).over(window_spec), 2))\n",
        "\n",
        "df_avg_revenue.show()"
      ],
      "metadata": {
        "colab": {
          "base_uri": "https://localhost:8080/"
        },
        "id": "L7bTguBv7RWb",
        "outputId": "69542e2c-f701-4269-bb8c-2a4208b2b1a9"
      },
      "execution_count": 12,
      "outputs": [
        {
          "output_type": "stream",
          "name": "stdout",
          "text": [
            "+----------+-----------+--------+-------+-----------+\n",
            "|      date|   category|quantity|revenue|avg_revenue|\n",
            "+----------+-----------+--------+-------+-----------+\n",
            "|2023-11-20|      Books|     150|   9000|   10333.33|\n",
            "|2023-11-21|      Books|     200|  12000|   10333.33|\n",
            "|2023-11-22|      Books|     180|  10000|   10333.33|\n",
            "|2023-11-20|   Clothing|     300|  15000|    15000.0|\n",
            "|2023-11-21|   Clothing|     280|  14000|    15000.0|\n",
            "|2023-11-22|   Clothing|     320|  16000|    15000.0|\n",
            "|2023-11-20|Electronics|     100|  12000|    12500.0|\n",
            "|2023-11-21|Electronics|     110|  13000|    12500.0|\n",
            "|2023-11-22|Electronics|     105|  12500|    12500.0|\n",
            "+----------+-----------+--------+-------+-----------+\n",
            "\n"
          ]
        }
      ]
    },
    {
      "cell_type": "code",
      "source": [
        "# Операция pivot для преобразования данных\n",
        "pivot_df = df_avg_revenue.groupBy(\"category\").pivot(\"date\").avg(\"avg_revenue\")\n",
        "\n",
        "# Отображение результата\n",
        "pivot_df.show()"
      ],
      "metadata": {
        "colab": {
          "base_uri": "https://localhost:8080/"
        },
        "id": "A5bWxsuT7qfq",
        "outputId": "d964357e-9715-47ab-c8e0-3d912ae7aa7b"
      },
      "execution_count": 13,
      "outputs": [
        {
          "output_type": "stream",
          "name": "stdout",
          "text": [
            "+-----------+----------+----------+----------+\n",
            "|   category|2023-11-20|2023-11-21|2023-11-22|\n",
            "+-----------+----------+----------+----------+\n",
            "|      Books|  10333.33|  10333.33|  10333.33|\n",
            "|   Clothing|   15000.0|   15000.0|   15000.0|\n",
            "|Electronics|   12500.0|   12500.0|   12500.0|\n",
            "+-----------+----------+----------+----------+\n",
            "\n"
          ]
        }
      ]
    },
    {
      "cell_type": "code",
      "source": [
        "# или\n",
        "\n",
        "# Операция pivot для преобразования данных\n",
        "pivot_df_2 = df_avg_revenue.groupBy(\"category\").pivot(\"date\").mean(\"revenue\")\n",
        "\n",
        "# Отображение результата\n",
        "pivot_df_2.show()"
      ],
      "metadata": {
        "colab": {
          "base_uri": "https://localhost:8080/"
        },
        "id": "bCcyq0B9_dlH",
        "outputId": "75bbb9b0-c9cf-4c21-e33b-75a4efe25571"
      },
      "execution_count": 14,
      "outputs": [
        {
          "output_type": "stream",
          "name": "stdout",
          "text": [
            "+-----------+----------+----------+----------+\n",
            "|   category|2023-11-20|2023-11-21|2023-11-22|\n",
            "+-----------+----------+----------+----------+\n",
            "|Electronics|   12000.0|   13000.0|   12500.0|\n",
            "|   Clothing|   15000.0|   14000.0|   16000.0|\n",
            "|      Books|    9000.0|   12000.0|   10000.0|\n",
            "+-----------+----------+----------+----------+\n",
            "\n"
          ]
        }
      ]
    }
  ]
}